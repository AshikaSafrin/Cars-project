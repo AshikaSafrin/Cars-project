{
 "cells": [
  {
   "cell_type": "markdown",
   "id": "7cc9c227",
   "metadata": {},
   "source": [
    "# Data PreProcessing"
   ]
  },
  {
   "cell_type": "code",
   "execution_count": 65,
   "id": "0dffde56",
   "metadata": {},
   "outputs": [
    {
     "data": {
      "text/plain": [
       "Car_ID               0\n",
       "Brand                0\n",
       "Model                0\n",
       "Year                 0\n",
       "Kilometers_Driven    0\n",
       "Fuel_Type            0\n",
       "Transmission         0\n",
       "Owner_Type           0\n",
       "Mileage              0\n",
       "Engine               0\n",
       "Power                0\n",
       "Seats                0\n",
       "Price                0\n",
       "dtype: int64"
      ]
     },
     "execution_count": 65,
     "metadata": {},
     "output_type": "execute_result"
    }
   ],
   "source": [
    "dataset.isna().sum()"
   ]
  },
  {
   "cell_type": "code",
   "execution_count": 66,
   "id": "65489079",
   "metadata": {},
   "outputs": [
    {
     "name": "stdout",
     "output_type": "stream",
     "text": [
      "<class 'pandas.core.frame.DataFrame'>\n",
      "RangeIndex: 100 entries, 0 to 99\n",
      "Data columns (total 13 columns):\n",
      " #   Column             Non-Null Count  Dtype \n",
      "---  ------             --------------  ----- \n",
      " 0   Car_ID             100 non-null    int64 \n",
      " 1   Brand              100 non-null    object\n",
      " 2   Model              100 non-null    object\n",
      " 3   Year               100 non-null    int64 \n",
      " 4   Kilometers_Driven  100 non-null    int64 \n",
      " 5   Fuel_Type          100 non-null    object\n",
      " 6   Transmission       100 non-null    object\n",
      " 7   Owner_Type         100 non-null    object\n",
      " 8   Mileage            100 non-null    int64 \n",
      " 9   Engine             100 non-null    int64 \n",
      " 10  Power              100 non-null    int64 \n",
      " 11  Seats              100 non-null    int64 \n",
      " 12  Price              100 non-null    int64 \n",
      "dtypes: int64(8), object(5)\n",
      "memory usage: 10.3+ KB\n"
     ]
    }
   ],
   "source": [
    " dataset.info()"
   ]
  },
  {
   "cell_type": "code",
   "execution_count": 67,
   "id": "8e5942fd",
   "metadata": {},
   "outputs": [],
   "source": [
    "def QuanQual(dataset):\n",
    "    quan=[]\n",
    "    qual=[]\n",
    "    for columnName in dataset.columns:\n",
    "        print(columnName)\n",
    "        if(dataset[columnName].dtypes=='O'):\n",
    "            print(\"Qual\")\n",
    "            qual.append(columnName)\n",
    "        else:\n",
    "            print(\"Quan\")\n",
    "            quan.append(columnName)\n",
    "    return quan,qual"
   ]
  },
  {
   "cell_type": "code",
   "execution_count": 68,
   "id": "f9479444",
   "metadata": {},
   "outputs": [
    {
     "name": "stdout",
     "output_type": "stream",
     "text": [
      "Car_ID\n",
      "Quan\n",
      "Brand\n",
      "Qual\n",
      "Model\n",
      "Qual\n",
      "Year\n",
      "Quan\n",
      "Kilometers_Driven\n",
      "Quan\n",
      "Fuel_Type\n",
      "Qual\n",
      "Transmission\n",
      "Qual\n",
      "Owner_Type\n",
      "Qual\n",
      "Mileage\n",
      "Quan\n",
      "Engine\n",
      "Quan\n",
      "Power\n",
      "Quan\n",
      "Seats\n",
      "Quan\n",
      "Price\n",
      "Quan\n"
     ]
    }
   ],
   "source": [
    "quan,qual=QuanQual(dataset)"
   ]
  },
  {
   "cell_type": "code",
   "execution_count": 69,
   "id": "7b66f1c3",
   "metadata": {},
   "outputs": [
    {
     "data": {
      "text/plain": [
       "['Car_ID',\n",
       " 'Year',\n",
       " 'Kilometers_Driven',\n",
       " 'Mileage',\n",
       " 'Engine',\n",
       " 'Power',\n",
       " 'Seats',\n",
       " 'Price']"
      ]
     },
     "execution_count": 69,
     "metadata": {},
     "output_type": "execute_result"
    }
   ],
   "source": [
    "quan"
   ]
  },
  {
   "cell_type": "code",
   "execution_count": 70,
   "id": "6b382c04",
   "metadata": {},
   "outputs": [
    {
     "data": {
      "text/plain": [
       "['Brand', 'Model', 'Fuel_Type', 'Transmission', 'Owner_Type']"
      ]
     },
     "execution_count": 70,
     "metadata": {},
     "output_type": "execute_result"
    }
   ],
   "source": [
    "qual"
   ]
  },
  {
   "cell_type": "code",
   "execution_count": 71,
   "id": "766d0fdb",
   "metadata": {},
   "outputs": [],
   "source": [
    "#dataset=pd.get_dummies(dataset,dtype=int,drop_first=True)"
   ]
  },
  {
   "cell_type": "code",
   "execution_count": 72,
   "id": "53032ec6",
   "metadata": {},
   "outputs": [],
   "source": [
    "#dataset"
   ]
  },
  {
   "cell_type": "code",
   "execution_count": 73,
   "id": "3b36706b",
   "metadata": {},
   "outputs": [
    {
     "data": {
      "text/html": [
       "<div>\n",
       "<style scoped>\n",
       "    .dataframe tbody tr th:only-of-type {\n",
       "        vertical-align: middle;\n",
       "    }\n",
       "\n",
       "    .dataframe tbody tr th {\n",
       "        vertical-align: top;\n",
       "    }\n",
       "\n",
       "    .dataframe thead th {\n",
       "        text-align: right;\n",
       "    }\n",
       "</style>\n",
       "<table border=\"1\" class=\"dataframe\">\n",
       "  <thead>\n",
       "    <tr style=\"text-align: right;\">\n",
       "      <th></th>\n",
       "      <th>Car_ID</th>\n",
       "      <th>Year</th>\n",
       "      <th>Kilometers_Driven</th>\n",
       "      <th>Mileage</th>\n",
       "      <th>Engine</th>\n",
       "      <th>Power</th>\n",
       "      <th>Seats</th>\n",
       "      <th>Price</th>\n",
       "    </tr>\n",
       "  </thead>\n",
       "  <tbody>\n",
       "    <tr>\n",
       "      <th>count</th>\n",
       "      <td>100.000000</td>\n",
       "      <td>100.00000</td>\n",
       "      <td>100.000000</td>\n",
       "      <td>100.000000</td>\n",
       "      <td>100.000000</td>\n",
       "      <td>100.000000</td>\n",
       "      <td>100.000000</td>\n",
       "      <td>1.000000e+02</td>\n",
       "    </tr>\n",
       "    <tr>\n",
       "      <th>mean</th>\n",
       "      <td>50.500000</td>\n",
       "      <td>2018.39000</td>\n",
       "      <td>28150.000000</td>\n",
       "      <td>17.210000</td>\n",
       "      <td>1855.230000</td>\n",
       "      <td>158.130000</td>\n",
       "      <td>5.230000</td>\n",
       "      <td>1.574000e+06</td>\n",
       "    </tr>\n",
       "    <tr>\n",
       "      <th>std</th>\n",
       "      <td>29.011492</td>\n",
       "      <td>1.17116</td>\n",
       "      <td>9121.375716</td>\n",
       "      <td>3.309902</td>\n",
       "      <td>631.311475</td>\n",
       "      <td>76.968137</td>\n",
       "      <td>0.750151</td>\n",
       "      <td>1.000265e+06</td>\n",
       "    </tr>\n",
       "    <tr>\n",
       "      <th>min</th>\n",
       "      <td>1.000000</td>\n",
       "      <td>2016.00000</td>\n",
       "      <td>10000.000000</td>\n",
       "      <td>10.000000</td>\n",
       "      <td>999.000000</td>\n",
       "      <td>68.000000</td>\n",
       "      <td>4.000000</td>\n",
       "      <td>4.500000e+05</td>\n",
       "    </tr>\n",
       "    <tr>\n",
       "      <th>25%</th>\n",
       "      <td>25.750000</td>\n",
       "      <td>2017.75000</td>\n",
       "      <td>22000.000000</td>\n",
       "      <td>15.000000</td>\n",
       "      <td>1462.000000</td>\n",
       "      <td>103.000000</td>\n",
       "      <td>5.000000</td>\n",
       "      <td>7.000000e+05</td>\n",
       "    </tr>\n",
       "    <tr>\n",
       "      <th>50%</th>\n",
       "      <td>50.500000</td>\n",
       "      <td>2018.00000</td>\n",
       "      <td>27000.000000</td>\n",
       "      <td>17.000000</td>\n",
       "      <td>1774.000000</td>\n",
       "      <td>148.000000</td>\n",
       "      <td>5.000000</td>\n",
       "      <td>1.300000e+06</td>\n",
       "    </tr>\n",
       "    <tr>\n",
       "      <th>75%</th>\n",
       "      <td>75.250000</td>\n",
       "      <td>2019.00000</td>\n",
       "      <td>32000.000000</td>\n",
       "      <td>19.000000</td>\n",
       "      <td>2143.000000</td>\n",
       "      <td>187.000000</td>\n",
       "      <td>5.000000</td>\n",
       "      <td>2.500000e+06</td>\n",
       "    </tr>\n",
       "    <tr>\n",
       "      <th>max</th>\n",
       "      <td>100.000000</td>\n",
       "      <td>2021.00000</td>\n",
       "      <td>60000.000000</td>\n",
       "      <td>25.000000</td>\n",
       "      <td>4951.000000</td>\n",
       "      <td>396.000000</td>\n",
       "      <td>7.000000</td>\n",
       "      <td>4.000000e+06</td>\n",
       "    </tr>\n",
       "  </tbody>\n",
       "</table>\n",
       "</div>"
      ],
      "text/plain": [
       "           Car_ID        Year  Kilometers_Driven     Mileage       Engine  \\\n",
       "count  100.000000   100.00000         100.000000  100.000000   100.000000   \n",
       "mean    50.500000  2018.39000       28150.000000   17.210000  1855.230000   \n",
       "std     29.011492     1.17116        9121.375716    3.309902   631.311475   \n",
       "min      1.000000  2016.00000       10000.000000   10.000000   999.000000   \n",
       "25%     25.750000  2017.75000       22000.000000   15.000000  1462.000000   \n",
       "50%     50.500000  2018.00000       27000.000000   17.000000  1774.000000   \n",
       "75%     75.250000  2019.00000       32000.000000   19.000000  2143.000000   \n",
       "max    100.000000  2021.00000       60000.000000   25.000000  4951.000000   \n",
       "\n",
       "            Power       Seats         Price  \n",
       "count  100.000000  100.000000  1.000000e+02  \n",
       "mean   158.130000    5.230000  1.574000e+06  \n",
       "std     76.968137    0.750151  1.000265e+06  \n",
       "min     68.000000    4.000000  4.500000e+05  \n",
       "25%    103.000000    5.000000  7.000000e+05  \n",
       "50%    148.000000    5.000000  1.300000e+06  \n",
       "75%    187.000000    5.000000  2.500000e+06  \n",
       "max    396.000000    7.000000  4.000000e+06  "
      ]
     },
     "execution_count": 73,
     "metadata": {},
     "output_type": "execute_result"
    }
   ],
   "source": [
    "dataset.describe()"
   ]
  },
  {
   "cell_type": "code",
   "execution_count": 74,
   "id": "b01a7d04",
   "metadata": {},
   "outputs": [],
   "source": [
    "import numpy as np\n",
    "descriptive=pd.DataFrame(index=[\"Q1:25%\",\"Q2:50%\",\"Q3:75%\",\"IQR\",\"1.5Rule\",\"Lesser\",'Greater','min','max'],columns=quan)\n",
    "for columnName in quan:\n",
    "    descriptive[columnName][\"Q1:25%\"]=dataset.describe()[columnName][\"25%\"]\n",
    "    descriptive[columnName][\"Q2:50%\"]=dataset.describe()[columnName][\"50%\"]\n",
    "    descriptive[columnName][\"Q3:75%\"]=dataset.describe()[columnName][\"75%\"]\n",
    "    descriptive[columnName][\"IQR\"] = descriptive[columnName][\"Q3:75%\"] - descriptive[columnName][\"Q1:25%\"]\n",
    "    descriptive[columnName][\"1.5Rule\"] = 1.5 * descriptive[columnName][\"IQR\"]\n",
    "    descriptive[columnName][\"Lesser\"] = descriptive[columnName][\"Q1:25%\"] - descriptive[columnName][\"1.5Rule\"]\n",
    "    descriptive[columnName][\"Greater\"] = descriptive[columnName][\"Q3:75%\"] + descriptive[columnName][\"1.5Rule\"]\n",
    "    descriptive[columnName][\"min\"] = dataset[columnName].min()  # Added calculation for min\n",
    "    descriptive[columnName][\"max\"] = dataset[columnName].max()  # Added calculation for max\n",
    "    #descriptive[columnName][\"99%\"]=np.percentile(dataset[columnName],99)\n",
    "    #descriptive[columnName][\"Q4:100%\"]=dataset.describe()[columnName][\"max\"]\n",
    "    #descriptive[columnName][\"min\"] = dataset[columnName].min()  # Added calculation for min\n",
    "    #descriptive[columnName][\"max\"] = dataset[columnName].max()  # Added calculation for max"
   ]
  },
  {
   "cell_type": "code",
   "execution_count": 75,
   "id": "97e18d5e",
   "metadata": {},
   "outputs": [
    {
     "data": {
      "text/html": [
       "<div>\n",
       "<style scoped>\n",
       "    .dataframe tbody tr th:only-of-type {\n",
       "        vertical-align: middle;\n",
       "    }\n",
       "\n",
       "    .dataframe tbody tr th {\n",
       "        vertical-align: top;\n",
       "    }\n",
       "\n",
       "    .dataframe thead th {\n",
       "        text-align: right;\n",
       "    }\n",
       "</style>\n",
       "<table border=\"1\" class=\"dataframe\">\n",
       "  <thead>\n",
       "    <tr style=\"text-align: right;\">\n",
       "      <th></th>\n",
       "      <th>Car_ID</th>\n",
       "      <th>Year</th>\n",
       "      <th>Kilometers_Driven</th>\n",
       "      <th>Mileage</th>\n",
       "      <th>Engine</th>\n",
       "      <th>Power</th>\n",
       "      <th>Seats</th>\n",
       "      <th>Price</th>\n",
       "    </tr>\n",
       "  </thead>\n",
       "  <tbody>\n",
       "    <tr>\n",
       "      <th>Q1:25%</th>\n",
       "      <td>25.75</td>\n",
       "      <td>2017.75</td>\n",
       "      <td>22000.0</td>\n",
       "      <td>15.0</td>\n",
       "      <td>1462.0</td>\n",
       "      <td>103.0</td>\n",
       "      <td>5.0</td>\n",
       "      <td>700000.0</td>\n",
       "    </tr>\n",
       "    <tr>\n",
       "      <th>Q2:50%</th>\n",
       "      <td>50.5</td>\n",
       "      <td>2018.0</td>\n",
       "      <td>27000.0</td>\n",
       "      <td>17.0</td>\n",
       "      <td>1774.0</td>\n",
       "      <td>148.0</td>\n",
       "      <td>5.0</td>\n",
       "      <td>1300000.0</td>\n",
       "    </tr>\n",
       "    <tr>\n",
       "      <th>Q3:75%</th>\n",
       "      <td>75.25</td>\n",
       "      <td>2019.0</td>\n",
       "      <td>32000.0</td>\n",
       "      <td>19.0</td>\n",
       "      <td>2143.0</td>\n",
       "      <td>187.0</td>\n",
       "      <td>5.0</td>\n",
       "      <td>2500000.0</td>\n",
       "    </tr>\n",
       "    <tr>\n",
       "      <th>IQR</th>\n",
       "      <td>49.5</td>\n",
       "      <td>1.25</td>\n",
       "      <td>10000.0</td>\n",
       "      <td>4.0</td>\n",
       "      <td>681.0</td>\n",
       "      <td>84.0</td>\n",
       "      <td>0.0</td>\n",
       "      <td>1800000.0</td>\n",
       "    </tr>\n",
       "    <tr>\n",
       "      <th>1.5Rule</th>\n",
       "      <td>74.25</td>\n",
       "      <td>1.875</td>\n",
       "      <td>15000.0</td>\n",
       "      <td>6.0</td>\n",
       "      <td>1021.5</td>\n",
       "      <td>126.0</td>\n",
       "      <td>0.0</td>\n",
       "      <td>2700000.0</td>\n",
       "    </tr>\n",
       "    <tr>\n",
       "      <th>Lesser</th>\n",
       "      <td>-48.5</td>\n",
       "      <td>2015.875</td>\n",
       "      <td>7000.0</td>\n",
       "      <td>9.0</td>\n",
       "      <td>440.5</td>\n",
       "      <td>-23.0</td>\n",
       "      <td>5.0</td>\n",
       "      <td>-2000000.0</td>\n",
       "    </tr>\n",
       "    <tr>\n",
       "      <th>Greater</th>\n",
       "      <td>149.5</td>\n",
       "      <td>2020.875</td>\n",
       "      <td>47000.0</td>\n",
       "      <td>25.0</td>\n",
       "      <td>3164.5</td>\n",
       "      <td>313.0</td>\n",
       "      <td>5.0</td>\n",
       "      <td>5200000.0</td>\n",
       "    </tr>\n",
       "    <tr>\n",
       "      <th>min</th>\n",
       "      <td>1</td>\n",
       "      <td>2016</td>\n",
       "      <td>10000</td>\n",
       "      <td>10</td>\n",
       "      <td>999</td>\n",
       "      <td>68</td>\n",
       "      <td>4</td>\n",
       "      <td>450000</td>\n",
       "    </tr>\n",
       "    <tr>\n",
       "      <th>max</th>\n",
       "      <td>100</td>\n",
       "      <td>2021</td>\n",
       "      <td>60000</td>\n",
       "      <td>25</td>\n",
       "      <td>4951</td>\n",
       "      <td>396</td>\n",
       "      <td>7</td>\n",
       "      <td>4000000</td>\n",
       "    </tr>\n",
       "  </tbody>\n",
       "</table>\n",
       "</div>"
      ],
      "text/plain": [
       "        Car_ID      Year Kilometers_Driven Mileage  Engine  Power Seats  \\\n",
       "Q1:25%   25.75   2017.75           22000.0    15.0  1462.0  103.0   5.0   \n",
       "Q2:50%    50.5    2018.0           27000.0    17.0  1774.0  148.0   5.0   \n",
       "Q3:75%   75.25    2019.0           32000.0    19.0  2143.0  187.0   5.0   \n",
       "IQR       49.5      1.25           10000.0     4.0   681.0   84.0   0.0   \n",
       "1.5Rule  74.25     1.875           15000.0     6.0  1021.5  126.0   0.0   \n",
       "Lesser   -48.5  2015.875            7000.0     9.0   440.5  -23.0   5.0   \n",
       "Greater  149.5  2020.875           47000.0    25.0  3164.5  313.0   5.0   \n",
       "min          1      2016             10000      10     999     68     4   \n",
       "max        100      2021             60000      25    4951    396     7   \n",
       "\n",
       "             Price  \n",
       "Q1:25%    700000.0  \n",
       "Q2:50%   1300000.0  \n",
       "Q3:75%   2500000.0  \n",
       "IQR      1800000.0  \n",
       "1.5Rule  2700000.0  \n",
       "Lesser  -2000000.0  \n",
       "Greater  5200000.0  \n",
       "min         450000  \n",
       "max        4000000  "
      ]
     },
     "execution_count": 75,
     "metadata": {},
     "output_type": "execute_result"
    }
   ],
   "source": [
    "descriptive"
   ]
  },
  {
   "cell_type": "code",
   "execution_count": 76,
   "id": "7b47104d",
   "metadata": {},
   "outputs": [
    {
     "data": {
      "text/plain": [
       "True"
      ]
     },
     "execution_count": 76,
     "metadata": {},
     "output_type": "execute_result"
    }
   ],
   "source": [
    "descriptive[\"Seats\"][\"min\"]<descriptive[\"Seats\"][\"Lesser\"]"
   ]
  },
  {
   "cell_type": "code",
   "execution_count": 77,
   "id": "3883bb15",
   "metadata": {},
   "outputs": [],
   "source": [
    "Lesser=[]\n",
    "Greater=[]\n",
    "for columnName in quan:\n",
    "    if(descriptive[columnName][\"min\"]<descriptive[columnName][\"Lesser\"]):\n",
    "        Lesser.append(columnName)\n",
    "    if(descriptive[columnName][\"max\"]<descriptive[columnName][\"Greater\"]):\n",
    "        Greater.append(columnName)\n",
    "    "
   ]
  },
  {
   "cell_type": "code",
   "execution_count": 78,
   "id": "fb25657b",
   "metadata": {},
   "outputs": [
    {
     "data": {
      "text/plain": [
       "['Seats']"
      ]
     },
     "execution_count": 78,
     "metadata": {},
     "output_type": "execute_result"
    }
   ],
   "source": [
    "Lesser"
   ]
  },
  {
   "cell_type": "code",
   "execution_count": 79,
   "id": "16255277",
   "metadata": {},
   "outputs": [
    {
     "data": {
      "text/plain": [
       "['Car_ID', 'Price']"
      ]
     },
     "execution_count": 79,
     "metadata": {},
     "output_type": "execute_result"
    }
   ],
   "source": [
    "Greater"
   ]
  },
  {
   "cell_type": "code",
   "execution_count": 80,
   "id": "00b32eb3",
   "metadata": {},
   "outputs": [
    {
     "name": "stderr",
     "output_type": "stream",
     "text": [
      "C:\\Users\\ADMIN\\AppData\\Local\\Temp\\ipykernel_16056\\3381042728.py:2: SettingWithCopyWarning: \n",
      "A value is trying to be set on a copy of a slice from a DataFrame\n",
      "\n",
      "See the caveats in the documentation: https://pandas.pydata.org/pandas-docs/stable/user_guide/indexing.html#returning-a-view-versus-a-copy\n",
      "  dataset[\"Seats\"][dataset[columnName]<descriptive[columnName][\"Lesser\"]]=descriptive[columnName][\"Lesser\"]\n"
     ]
    }
   ],
   "source": [
    "for columnName in Lesser:\n",
    "     dataset[\"Seats\"][dataset[columnName]<descriptive[columnName][\"Lesser\"]]=descriptive[columnName][\"Lesser\"]\n",
    "    "
   ]
  },
  {
   "cell_type": "code",
   "execution_count": 81,
   "id": "ce0ff875",
   "metadata": {},
   "outputs": [
    {
     "name": "stderr",
     "output_type": "stream",
     "text": [
      "C:\\Users\\ADMIN\\AppData\\Local\\Temp\\ipykernel_16056\\3069300918.py:2: SettingWithCopyWarning: \n",
      "A value is trying to be set on a copy of a slice from a DataFrame\n",
      "\n",
      "See the caveats in the documentation: https://pandas.pydata.org/pandas-docs/stable/user_guide/indexing.html#returning-a-view-versus-a-copy\n",
      "  dataset[columnName][dataset[columnName]>descriptive[columnName][\"Greater\"]]=descriptive[columnName][\"Greater\"]\n",
      "C:\\Users\\ADMIN\\AppData\\Local\\Temp\\ipykernel_16056\\3069300918.py:2: SettingWithCopyWarning: \n",
      "A value is trying to be set on a copy of a slice from a DataFrame\n",
      "\n",
      "See the caveats in the documentation: https://pandas.pydata.org/pandas-docs/stable/user_guide/indexing.html#returning-a-view-versus-a-copy\n",
      "  dataset[columnName][dataset[columnName]>descriptive[columnName][\"Greater\"]]=descriptive[columnName][\"Greater\"]\n"
     ]
    }
   ],
   "source": [
    "for columnName in Greater:\n",
    "     dataset[columnName][dataset[columnName]>descriptive[columnName][\"Greater\"]]=descriptive[columnName][\"Greater\"]\n",
    "    "
   ]
  },
  {
   "cell_type": "code",
   "execution_count": null,
   "id": "2388feed",
   "metadata": {},
   "outputs": [],
   "source": []
  },
  {
   "cell_type": "code",
   "execution_count": null,
   "id": "2c6d4300",
   "metadata": {},
   "outputs": [],
   "source": []
  },
  {
   "cell_type": "code",
   "execution_count": null,
   "id": "cac965a3",
   "metadata": {},
   "outputs": [],
   "source": []
  }
 ],
 "metadata": {
  "kernelspec": {
   "display_name": "Python 3 (ipykernel)",
   "language": "python",
   "name": "python3"
  },
  "language_info": {
   "codemirror_mode": {
    "name": "ipython",
    "version": 3
   },
   "file_extension": ".py",
   "mimetype": "text/x-python",
   "name": "python",
   "nbconvert_exporter": "python",
   "pygments_lexer": "ipython3",
   "version": "3.11.5"
  }
 },
 "nbformat": 4,
 "nbformat_minor": 5
}
